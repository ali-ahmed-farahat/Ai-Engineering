{
  "metadata": {
    "kernelspec": {
      "name": "python",
      "display_name": "Python (Pyodide)",
      "language": "python"
    },
    "language_info": {
      "codemirror_mode": {
        "name": "python",
        "version": 3
      },
      "file_extension": ".py",
      "mimetype": "text/x-python",
      "name": "python",
      "nbconvert_exporter": "python",
      "pygments_lexer": "ipython3",
      "version": "3.8"
    }
  },
  "nbformat_minor": 4,
  "nbformat": 4,
  "cells": [
    {
      "cell_type": "code",
      "source": "import pandas as pd\nimport numpy as np",
      "metadata": {
        "trusted": true
      },
      "outputs": [
        {
          "name": "stderr",
          "text": "<ipython-input-2-baf368f80de7>:1: DeprecationWarning: \nPyarrow will become a required dependency of pandas in the next major release of pandas (pandas 3.0),\n(to allow more performant data types, such as the Arrow string type, and better interoperability with other libraries)\nbut was not found to be installed on your system.\nIf this would cause problems for you,\nplease provide us feedback at https://github.com/pandas-dev/pandas/issues/54466\n        \n  import pandas as pd\n",
          "output_type": "stream"
        }
      ],
      "execution_count": 2
    },
    {
      "cell_type": "code",
      "source": "print(\"Hello World\")\n",
      "metadata": {
        "trusted": true
      },
      "outputs": [
        {
          "name": "stdout",
          "text": "Hello World\n",
          "output_type": "stream"
        }
      ],
      "execution_count": 3
    },
    {
      "cell_type": "code",
      "source": "df = pd.read_csv(\"data/customer_data.csv\")",
      "metadata": {
        "trusted": true
      },
      "outputs": [],
      "execution_count": null
    },
    {
      "cell_type": "code",
      "source": "df.head()",
      "metadata": {
        "trusted": true
      },
      "outputs": [
        {
          "execution_count": 26,
          "output_type": "execute_result",
          "data": {
            "text/plain": "   customer_id date_of_interaction     issue_category  time_spent_minutes  \\\n0            1          2024-01-15            Payment                30.0   \n1            2          2024-02-20            Account                45.0   \n2            3          2024-03-05           Delivery                 NaN   \n3            4                 NaN  Technical Support                60.0   \n4            5          2024-04-10            Payment                20.0   \n\n  resolution_status  \n0          Resolved  \n1        Unresolved  \n2          Resolved  \n3        Unresolved  \n4          Resolved  ",
            "text/html": "<div>\n<style scoped>\n    .dataframe tbody tr th:only-of-type {\n        vertical-align: middle;\n    }\n\n    .dataframe tbody tr th {\n        vertical-align: top;\n    }\n\n    .dataframe thead th {\n        text-align: right;\n    }\n</style>\n<table border=\"1\" class=\"dataframe\">\n  <thead>\n    <tr style=\"text-align: right;\">\n      <th></th>\n      <th>customer_id</th>\n      <th>date_of_interaction</th>\n      <th>issue_category</th>\n      <th>time_spent_minutes</th>\n      <th>resolution_status</th>\n    </tr>\n  </thead>\n  <tbody>\n    <tr>\n      <th>0</th>\n      <td>1</td>\n      <td>2024-01-15</td>\n      <td>Payment</td>\n      <td>30.0</td>\n      <td>Resolved</td>\n    </tr>\n    <tr>\n      <th>1</th>\n      <td>2</td>\n      <td>2024-02-20</td>\n      <td>Account</td>\n      <td>45.0</td>\n      <td>Unresolved</td>\n    </tr>\n    <tr>\n      <th>2</th>\n      <td>3</td>\n      <td>2024-03-05</td>\n      <td>Delivery</td>\n      <td>NaN</td>\n      <td>Resolved</td>\n    </tr>\n    <tr>\n      <th>3</th>\n      <td>4</td>\n      <td>NaN</td>\n      <td>Technical Support</td>\n      <td>60.0</td>\n      <td>Unresolved</td>\n    </tr>\n    <tr>\n      <th>4</th>\n      <td>5</td>\n      <td>2024-04-10</td>\n      <td>Payment</td>\n      <td>20.0</td>\n      <td>Resolved</td>\n    </tr>\n  </tbody>\n</table>\n</div>"
          },
          "metadata": {}
        }
      ],
      "execution_count": 26
    },
    {
      "cell_type": "code",
      "source": "df.info()",
      "metadata": {
        "trusted": true
      },
      "outputs": [
        {
          "name": "stdout",
          "text": "<class 'pandas.core.frame.DataFrame'>\nRangeIndex: 20 entries, 0 to 19\nData columns (total 5 columns):\n #   Column               Non-Null Count  Dtype  \n---  ------               --------------  -----  \n 0   customer_id          20 non-null     int64  \n 1   date_of_interaction  18 non-null     object \n 2   issue_category       18 non-null     object \n 3   time_spent_minutes   16 non-null     float64\n 4   resolution_status    20 non-null     object \ndtypes: float64(1), int64(1), object(3)\nmemory usage: 632.0+ bytes\n",
          "output_type": "stream"
        }
      ],
      "execution_count": 6
    },
    {
      "cell_type": "code",
      "source": "df.describe()",
      "metadata": {
        "trusted": true
      },
      "outputs": [
        {
          "execution_count": 7,
          "output_type": "execute_result",
          "data": {
            "text/plain": "       customer_id  time_spent_minutes\ncount     20.00000            16.00000\nmean      10.50000            34.06250\nstd        5.91608            13.68926\nmin        1.00000            15.00000\n25%        5.75000            23.75000\n50%       10.50000            30.00000\n75%       15.25000            45.00000\nmax       20.00000            60.00000",
            "text/html": "<div>\n<style scoped>\n    .dataframe tbody tr th:only-of-type {\n        vertical-align: middle;\n    }\n\n    .dataframe tbody tr th {\n        vertical-align: top;\n    }\n\n    .dataframe thead th {\n        text-align: right;\n    }\n</style>\n<table border=\"1\" class=\"dataframe\">\n  <thead>\n    <tr style=\"text-align: right;\">\n      <th></th>\n      <th>customer_id</th>\n      <th>time_spent_minutes</th>\n    </tr>\n  </thead>\n  <tbody>\n    <tr>\n      <th>count</th>\n      <td>20.00000</td>\n      <td>16.00000</td>\n    </tr>\n    <tr>\n      <th>mean</th>\n      <td>10.50000</td>\n      <td>34.06250</td>\n    </tr>\n    <tr>\n      <th>std</th>\n      <td>5.91608</td>\n      <td>13.68926</td>\n    </tr>\n    <tr>\n      <th>min</th>\n      <td>1.00000</td>\n      <td>15.00000</td>\n    </tr>\n    <tr>\n      <th>25%</th>\n      <td>5.75000</td>\n      <td>23.75000</td>\n    </tr>\n    <tr>\n      <th>50%</th>\n      <td>10.50000</td>\n      <td>30.00000</td>\n    </tr>\n    <tr>\n      <th>75%</th>\n      <td>15.25000</td>\n      <td>45.00000</td>\n    </tr>\n    <tr>\n      <th>max</th>\n      <td>20.00000</td>\n      <td>60.00000</td>\n    </tr>\n  </tbody>\n</table>\n</div>"
          },
          "metadata": {}
        }
      ],
      "execution_count": 7
    },
    {
      "cell_type": "code",
      "source": "df.columns",
      "metadata": {
        "trusted": true
      },
      "outputs": [
        {
          "execution_count": 9,
          "output_type": "execute_result",
          "data": {
            "text/plain": "Index(['customer_id', 'date_of_interaction', 'issue_category',\n       'time_spent_minutes', 'resolution_status'],\n      dtype='object')"
          },
          "metadata": {}
        }
      ],
      "execution_count": 9
    },
    {
      "cell_type": "code",
      "source": "df.loc[(df.resolution_status == \"Unresolved\")]",
      "metadata": {
        "trusted": true
      },
      "outputs": [
        {
          "execution_count": 13,
          "output_type": "execute_result",
          "data": {
            "text/plain": "    customer_id date_of_interaction     issue_category  time_spent_minutes  \\\n1             2          2024-02-20            Account                45.0   \n3             4                 NaN  Technical Support                60.0   \n5             6          2024-05-15                NaN                30.0   \n7             8          2024-07-22           Delivery                15.0   \n9            10          2024-09-30            Payment                25.0   \n11           12          2024-02-29           Delivery                55.0   \n13           14          2024-04-20            Payment                40.0   \n15           16          2024-06-30           Delivery                25.0   \n17           18          2024-08-25                NaN                30.0   \n19           20          2024-09-05            Account                20.0   \n\n   resolution_status  \n1         Unresolved  \n3         Unresolved  \n5         Unresolved  \n7         Unresolved  \n9         Unresolved  \n11        Unresolved  \n13        Unresolved  \n15        Unresolved  \n17        Unresolved  \n19        Unresolved  ",
            "text/html": "<div>\n<style scoped>\n    .dataframe tbody tr th:only-of-type {\n        vertical-align: middle;\n    }\n\n    .dataframe tbody tr th {\n        vertical-align: top;\n    }\n\n    .dataframe thead th {\n        text-align: right;\n    }\n</style>\n<table border=\"1\" class=\"dataframe\">\n  <thead>\n    <tr style=\"text-align: right;\">\n      <th></th>\n      <th>customer_id</th>\n      <th>date_of_interaction</th>\n      <th>issue_category</th>\n      <th>time_spent_minutes</th>\n      <th>resolution_status</th>\n    </tr>\n  </thead>\n  <tbody>\n    <tr>\n      <th>1</th>\n      <td>2</td>\n      <td>2024-02-20</td>\n      <td>Account</td>\n      <td>45.0</td>\n      <td>Unresolved</td>\n    </tr>\n    <tr>\n      <th>3</th>\n      <td>4</td>\n      <td>NaN</td>\n      <td>Technical Support</td>\n      <td>60.0</td>\n      <td>Unresolved</td>\n    </tr>\n    <tr>\n      <th>5</th>\n      <td>6</td>\n      <td>2024-05-15</td>\n      <td>NaN</td>\n      <td>30.0</td>\n      <td>Unresolved</td>\n    </tr>\n    <tr>\n      <th>7</th>\n      <td>8</td>\n      <td>2024-07-22</td>\n      <td>Delivery</td>\n      <td>15.0</td>\n      <td>Unresolved</td>\n    </tr>\n    <tr>\n      <th>9</th>\n      <td>10</td>\n      <td>2024-09-30</td>\n      <td>Payment</td>\n      <td>25.0</td>\n      <td>Unresolved</td>\n    </tr>\n    <tr>\n      <th>11</th>\n      <td>12</td>\n      <td>2024-02-29</td>\n      <td>Delivery</td>\n      <td>55.0</td>\n      <td>Unresolved</td>\n    </tr>\n    <tr>\n      <th>13</th>\n      <td>14</td>\n      <td>2024-04-20</td>\n      <td>Payment</td>\n      <td>40.0</td>\n      <td>Unresolved</td>\n    </tr>\n    <tr>\n      <th>15</th>\n      <td>16</td>\n      <td>2024-06-30</td>\n      <td>Delivery</td>\n      <td>25.0</td>\n      <td>Unresolved</td>\n    </tr>\n    <tr>\n      <th>17</th>\n      <td>18</td>\n      <td>2024-08-25</td>\n      <td>NaN</td>\n      <td>30.0</td>\n      <td>Unresolved</td>\n    </tr>\n    <tr>\n      <th>19</th>\n      <td>20</td>\n      <td>2024-09-05</td>\n      <td>Account</td>\n      <td>20.0</td>\n      <td>Unresolved</td>\n    </tr>\n  </tbody>\n</table>\n</div>"
          },
          "metadata": {}
        }
      ],
      "execution_count": 13
    },
    {
      "cell_type": "code",
      "source": "Unresolved_cx = df.loc[(df.resolution_status == \"Unresolved\")]",
      "metadata": {
        "trusted": true
      },
      "outputs": [],
      "execution_count": 14
    },
    {
      "cell_type": "code",
      "source": "Unresolved_cx",
      "metadata": {
        "trusted": true
      },
      "outputs": [
        {
          "execution_count": 15,
          "output_type": "execute_result",
          "data": {
            "text/plain": "    customer_id date_of_interaction     issue_category  time_spent_minutes  \\\n1             2          2024-02-20            Account                45.0   \n3             4                 NaN  Technical Support                60.0   \n5             6          2024-05-15                NaN                30.0   \n7             8          2024-07-22           Delivery                15.0   \n9            10          2024-09-30            Payment                25.0   \n11           12          2024-02-29           Delivery                55.0   \n13           14          2024-04-20            Payment                40.0   \n15           16          2024-06-30           Delivery                25.0   \n17           18          2024-08-25                NaN                30.0   \n19           20          2024-09-05            Account                20.0   \n\n   resolution_status  \n1         Unresolved  \n3         Unresolved  \n5         Unresolved  \n7         Unresolved  \n9         Unresolved  \n11        Unresolved  \n13        Unresolved  \n15        Unresolved  \n17        Unresolved  \n19        Unresolved  ",
            "text/html": "<div>\n<style scoped>\n    .dataframe tbody tr th:only-of-type {\n        vertical-align: middle;\n    }\n\n    .dataframe tbody tr th {\n        vertical-align: top;\n    }\n\n    .dataframe thead th {\n        text-align: right;\n    }\n</style>\n<table border=\"1\" class=\"dataframe\">\n  <thead>\n    <tr style=\"text-align: right;\">\n      <th></th>\n      <th>customer_id</th>\n      <th>date_of_interaction</th>\n      <th>issue_category</th>\n      <th>time_spent_minutes</th>\n      <th>resolution_status</th>\n    </tr>\n  </thead>\n  <tbody>\n    <tr>\n      <th>1</th>\n      <td>2</td>\n      <td>2024-02-20</td>\n      <td>Account</td>\n      <td>45.0</td>\n      <td>Unresolved</td>\n    </tr>\n    <tr>\n      <th>3</th>\n      <td>4</td>\n      <td>NaN</td>\n      <td>Technical Support</td>\n      <td>60.0</td>\n      <td>Unresolved</td>\n    </tr>\n    <tr>\n      <th>5</th>\n      <td>6</td>\n      <td>2024-05-15</td>\n      <td>NaN</td>\n      <td>30.0</td>\n      <td>Unresolved</td>\n    </tr>\n    <tr>\n      <th>7</th>\n      <td>8</td>\n      <td>2024-07-22</td>\n      <td>Delivery</td>\n      <td>15.0</td>\n      <td>Unresolved</td>\n    </tr>\n    <tr>\n      <th>9</th>\n      <td>10</td>\n      <td>2024-09-30</td>\n      <td>Payment</td>\n      <td>25.0</td>\n      <td>Unresolved</td>\n    </tr>\n    <tr>\n      <th>11</th>\n      <td>12</td>\n      <td>2024-02-29</td>\n      <td>Delivery</td>\n      <td>55.0</td>\n      <td>Unresolved</td>\n    </tr>\n    <tr>\n      <th>13</th>\n      <td>14</td>\n      <td>2024-04-20</td>\n      <td>Payment</td>\n      <td>40.0</td>\n      <td>Unresolved</td>\n    </tr>\n    <tr>\n      <th>15</th>\n      <td>16</td>\n      <td>2024-06-30</td>\n      <td>Delivery</td>\n      <td>25.0</td>\n      <td>Unresolved</td>\n    </tr>\n    <tr>\n      <th>17</th>\n      <td>18</td>\n      <td>2024-08-25</td>\n      <td>NaN</td>\n      <td>30.0</td>\n      <td>Unresolved</td>\n    </tr>\n    <tr>\n      <th>19</th>\n      <td>20</td>\n      <td>2024-09-05</td>\n      <td>Account</td>\n      <td>20.0</td>\n      <td>Unresolved</td>\n    </tr>\n  </tbody>\n</table>\n</div>"
          },
          "metadata": {}
        }
      ],
      "execution_count": 15
    },
    {
      "cell_type": "code",
      "source": "Unresolved_cx.to_csv(\"data/unresolved.csv\", index = False)",
      "metadata": {
        "trusted": true
      },
      "outputs": [],
      "execution_count": 18
    },
    {
      "cell_type": "code",
      "source": "import matplotlib.pyplot as plt\n%matplotlib inline",
      "metadata": {
        "trusted": true
      },
      "outputs": [],
      "execution_count": 22
    },
    {
      "cell_type": "code",
      "source": "Unresolved_cx[\"issue_category\"].fillna(\"Not Specified\", inplace = True)\n\nplt.subplots(figsize=(7.5, 7.5))\nplt.bar(Unresolved_cx[\"issue_category\"], Unresolved_cx[\"time_spent_minutes\"], width = 0.5)\nplt.xlabel(\"Category\")\nplt.ylabel(\"Time spent in minutes\")\nplt.title(\"Time Spent by category\")\nplt.show()",
      "metadata": {
        "trusted": true
      },
      "outputs": [],
      "execution_count": null
    },
    {
      "cell_type": "code",
      "source": "Unresolved_cx",
      "metadata": {
        "trusted": true
      },
      "outputs": [
        {
          "execution_count": 44,
          "output_type": "execute_result",
          "data": {
            "text/plain": "    customer_id date_of_interaction     issue_category  time_spent_minutes  \\\n1             2          2024-02-20            Account                45.0   \n3             4                 NaN  Technical Support                60.0   \n5             6          2024-05-15      Not Specified                30.0   \n7             8          2024-07-22           Delivery                15.0   \n9            10          2024-09-30            Payment                25.0   \n11           12          2024-02-29           Delivery                55.0   \n13           14          2024-04-20            Payment                40.0   \n15           16          2024-06-30           Delivery                25.0   \n17           18          2024-08-25      Not Specified                30.0   \n19           20          2024-09-05            Account                20.0   \n\n   resolution_status  \n1         Unresolved  \n3         Unresolved  \n5         Unresolved  \n7         Unresolved  \n9         Unresolved  \n11        Unresolved  \n13        Unresolved  \n15        Unresolved  \n17        Unresolved  \n19        Unresolved  ",
            "text/html": "<div>\n<style scoped>\n    .dataframe tbody tr th:only-of-type {\n        vertical-align: middle;\n    }\n\n    .dataframe tbody tr th {\n        vertical-align: top;\n    }\n\n    .dataframe thead th {\n        text-align: right;\n    }\n</style>\n<table border=\"1\" class=\"dataframe\">\n  <thead>\n    <tr style=\"text-align: right;\">\n      <th></th>\n      <th>customer_id</th>\n      <th>date_of_interaction</th>\n      <th>issue_category</th>\n      <th>time_spent_minutes</th>\n      <th>resolution_status</th>\n    </tr>\n  </thead>\n  <tbody>\n    <tr>\n      <th>1</th>\n      <td>2</td>\n      <td>2024-02-20</td>\n      <td>Account</td>\n      <td>45.0</td>\n      <td>Unresolved</td>\n    </tr>\n    <tr>\n      <th>3</th>\n      <td>4</td>\n      <td>NaN</td>\n      <td>Technical Support</td>\n      <td>60.0</td>\n      <td>Unresolved</td>\n    </tr>\n    <tr>\n      <th>5</th>\n      <td>6</td>\n      <td>2024-05-15</td>\n      <td>Not Specified</td>\n      <td>30.0</td>\n      <td>Unresolved</td>\n    </tr>\n    <tr>\n      <th>7</th>\n      <td>8</td>\n      <td>2024-07-22</td>\n      <td>Delivery</td>\n      <td>15.0</td>\n      <td>Unresolved</td>\n    </tr>\n    <tr>\n      <th>9</th>\n      <td>10</td>\n      <td>2024-09-30</td>\n      <td>Payment</td>\n      <td>25.0</td>\n      <td>Unresolved</td>\n    </tr>\n    <tr>\n      <th>11</th>\n      <td>12</td>\n      <td>2024-02-29</td>\n      <td>Delivery</td>\n      <td>55.0</td>\n      <td>Unresolved</td>\n    </tr>\n    <tr>\n      <th>13</th>\n      <td>14</td>\n      <td>2024-04-20</td>\n      <td>Payment</td>\n      <td>40.0</td>\n      <td>Unresolved</td>\n    </tr>\n    <tr>\n      <th>15</th>\n      <td>16</td>\n      <td>2024-06-30</td>\n      <td>Delivery</td>\n      <td>25.0</td>\n      <td>Unresolved</td>\n    </tr>\n    <tr>\n      <th>17</th>\n      <td>18</td>\n      <td>2024-08-25</td>\n      <td>Not Specified</td>\n      <td>30.0</td>\n      <td>Unresolved</td>\n    </tr>\n    <tr>\n      <th>19</th>\n      <td>20</td>\n      <td>2024-09-05</td>\n      <td>Account</td>\n      <td>20.0</td>\n      <td>Unresolved</td>\n    </tr>\n  </tbody>\n</table>\n</div>"
          },
          "metadata": {}
        }
      ],
      "execution_count": 44
    },
    {
      "cell_type": "code",
      "source": "df.isnull().sum()",
      "metadata": {
        "trusted": true
      },
      "outputs": [
        {
          "execution_count": 64,
          "output_type": "execute_result",
          "data": {
            "text/plain": "customer_id            0\ndate_of_interaction    2\nissue_category         2\ntime_spent_minutes     4\nresolution_status      0\ndtype: int64"
          },
          "metadata": {}
        }
      ],
      "execution_count": 64
    },
    {
      "cell_type": "code",
      "source": "df\n",
      "metadata": {
        "trusted": true
      },
      "outputs": [
        {
          "execution_count": 65,
          "output_type": "execute_result",
          "data": {
            "text/plain": "    customer_id date_of_interaction     issue_category  time_spent_minutes  \\\n0             1          2024-01-15            Payment                30.0   \n1             2          2024-02-20            Account                45.0   \n2             3          2024-03-05           Delivery                 NaN   \n3             4                 NaN  Technical Support                60.0   \n4             5          2024-04-10            Payment                20.0   \n5             6          2024-05-15                NaN                30.0   \n6             7          2024-06-01            Account                50.0   \n7             8          2024-07-22           Delivery                15.0   \n8             9          2024-08-13  Technical Support                 NaN   \n9            10          2024-09-30            Payment                25.0   \n10           11          2024-01-01            Account                35.0   \n11           12          2024-02-29           Delivery                55.0   \n12           13          2024-03-15  Technical Support                 NaN   \n13           14          2024-04-20            Payment                40.0   \n14           15          2024-05-10            Account                 NaN   \n15           16          2024-06-30           Delivery                25.0   \n16           17          2024-07-15  Technical Support                20.0   \n17           18          2024-08-25                NaN                30.0   \n18           19                 NaN            Payment                45.0   \n19           20          2024-09-05            Account                20.0   \n\n   resolution_status  \n0           Resolved  \n1         Unresolved  \n2           Resolved  \n3         Unresolved  \n4           Resolved  \n5         Unresolved  \n6           Resolved  \n7         Unresolved  \n8           Resolved  \n9         Unresolved  \n10          Resolved  \n11        Unresolved  \n12          Resolved  \n13        Unresolved  \n14          Resolved  \n15        Unresolved  \n16          Resolved  \n17        Unresolved  \n18          Resolved  \n19        Unresolved  ",
            "text/html": "<div>\n<style scoped>\n    .dataframe tbody tr th:only-of-type {\n        vertical-align: middle;\n    }\n\n    .dataframe tbody tr th {\n        vertical-align: top;\n    }\n\n    .dataframe thead th {\n        text-align: right;\n    }\n</style>\n<table border=\"1\" class=\"dataframe\">\n  <thead>\n    <tr style=\"text-align: right;\">\n      <th></th>\n      <th>customer_id</th>\n      <th>date_of_interaction</th>\n      <th>issue_category</th>\n      <th>time_spent_minutes</th>\n      <th>resolution_status</th>\n    </tr>\n  </thead>\n  <tbody>\n    <tr>\n      <th>0</th>\n      <td>1</td>\n      <td>2024-01-15</td>\n      <td>Payment</td>\n      <td>30.0</td>\n      <td>Resolved</td>\n    </tr>\n    <tr>\n      <th>1</th>\n      <td>2</td>\n      <td>2024-02-20</td>\n      <td>Account</td>\n      <td>45.0</td>\n      <td>Unresolved</td>\n    </tr>\n    <tr>\n      <th>2</th>\n      <td>3</td>\n      <td>2024-03-05</td>\n      <td>Delivery</td>\n      <td>NaN</td>\n      <td>Resolved</td>\n    </tr>\n    <tr>\n      <th>3</th>\n      <td>4</td>\n      <td>NaN</td>\n      <td>Technical Support</td>\n      <td>60.0</td>\n      <td>Unresolved</td>\n    </tr>\n    <tr>\n      <th>4</th>\n      <td>5</td>\n      <td>2024-04-10</td>\n      <td>Payment</td>\n      <td>20.0</td>\n      <td>Resolved</td>\n    </tr>\n    <tr>\n      <th>5</th>\n      <td>6</td>\n      <td>2024-05-15</td>\n      <td>NaN</td>\n      <td>30.0</td>\n      <td>Unresolved</td>\n    </tr>\n    <tr>\n      <th>6</th>\n      <td>7</td>\n      <td>2024-06-01</td>\n      <td>Account</td>\n      <td>50.0</td>\n      <td>Resolved</td>\n    </tr>\n    <tr>\n      <th>7</th>\n      <td>8</td>\n      <td>2024-07-22</td>\n      <td>Delivery</td>\n      <td>15.0</td>\n      <td>Unresolved</td>\n    </tr>\n    <tr>\n      <th>8</th>\n      <td>9</td>\n      <td>2024-08-13</td>\n      <td>Technical Support</td>\n      <td>NaN</td>\n      <td>Resolved</td>\n    </tr>\n    <tr>\n      <th>9</th>\n      <td>10</td>\n      <td>2024-09-30</td>\n      <td>Payment</td>\n      <td>25.0</td>\n      <td>Unresolved</td>\n    </tr>\n    <tr>\n      <th>10</th>\n      <td>11</td>\n      <td>2024-01-01</td>\n      <td>Account</td>\n      <td>35.0</td>\n      <td>Resolved</td>\n    </tr>\n    <tr>\n      <th>11</th>\n      <td>12</td>\n      <td>2024-02-29</td>\n      <td>Delivery</td>\n      <td>55.0</td>\n      <td>Unresolved</td>\n    </tr>\n    <tr>\n      <th>12</th>\n      <td>13</td>\n      <td>2024-03-15</td>\n      <td>Technical Support</td>\n      <td>NaN</td>\n      <td>Resolved</td>\n    </tr>\n    <tr>\n      <th>13</th>\n      <td>14</td>\n      <td>2024-04-20</td>\n      <td>Payment</td>\n      <td>40.0</td>\n      <td>Unresolved</td>\n    </tr>\n    <tr>\n      <th>14</th>\n      <td>15</td>\n      <td>2024-05-10</td>\n      <td>Account</td>\n      <td>NaN</td>\n      <td>Resolved</td>\n    </tr>\n    <tr>\n      <th>15</th>\n      <td>16</td>\n      <td>2024-06-30</td>\n      <td>Delivery</td>\n      <td>25.0</td>\n      <td>Unresolved</td>\n    </tr>\n    <tr>\n      <th>16</th>\n      <td>17</td>\n      <td>2024-07-15</td>\n      <td>Technical Support</td>\n      <td>20.0</td>\n      <td>Resolved</td>\n    </tr>\n    <tr>\n      <th>17</th>\n      <td>18</td>\n      <td>2024-08-25</td>\n      <td>NaN</td>\n      <td>30.0</td>\n      <td>Unresolved</td>\n    </tr>\n    <tr>\n      <th>18</th>\n      <td>19</td>\n      <td>NaN</td>\n      <td>Payment</td>\n      <td>45.0</td>\n      <td>Resolved</td>\n    </tr>\n    <tr>\n      <th>19</th>\n      <td>20</td>\n      <td>2024-09-05</td>\n      <td>Account</td>\n      <td>20.0</td>\n      <td>Unresolved</td>\n    </tr>\n  </tbody>\n</table>\n</div>"
          },
          "metadata": {}
        }
      ],
      "execution_count": 65
    },
    {
      "cell_type": "code",
      "source": "df['issue_category'].fillna(\"Not specified\", inplace = True)",
      "metadata": {
        "trusted": true
      },
      "outputs": [],
      "execution_count": null
    },
    {
      "cell_type": "code",
      "source": "df\n",
      "metadata": {
        "trusted": true
      },
      "outputs": [],
      "execution_count": null
    },
    {
      "cell_type": "code",
      "source": "df.describe()",
      "metadata": {
        "trusted": true
      },
      "outputs": [
        {
          "execution_count": 68,
          "output_type": "execute_result",
          "data": {
            "text/plain": "       customer_id  time_spent_minutes\ncount     20.00000            16.00000\nmean      10.50000            34.06250\nstd        5.91608            13.68926\nmin        1.00000            15.00000\n25%        5.75000            23.75000\n50%       10.50000            30.00000\n75%       15.25000            45.00000\nmax       20.00000            60.00000",
            "text/html": "<div>\n<style scoped>\n    .dataframe tbody tr th:only-of-type {\n        vertical-align: middle;\n    }\n\n    .dataframe tbody tr th {\n        vertical-align: top;\n    }\n\n    .dataframe thead th {\n        text-align: right;\n    }\n</style>\n<table border=\"1\" class=\"dataframe\">\n  <thead>\n    <tr style=\"text-align: right;\">\n      <th></th>\n      <th>customer_id</th>\n      <th>time_spent_minutes</th>\n    </tr>\n  </thead>\n  <tbody>\n    <tr>\n      <th>count</th>\n      <td>20.00000</td>\n      <td>16.00000</td>\n    </tr>\n    <tr>\n      <th>mean</th>\n      <td>10.50000</td>\n      <td>34.06250</td>\n    </tr>\n    <tr>\n      <th>std</th>\n      <td>5.91608</td>\n      <td>13.68926</td>\n    </tr>\n    <tr>\n      <th>min</th>\n      <td>1.00000</td>\n      <td>15.00000</td>\n    </tr>\n    <tr>\n      <th>25%</th>\n      <td>5.75000</td>\n      <td>23.75000</td>\n    </tr>\n    <tr>\n      <th>50%</th>\n      <td>10.50000</td>\n      <td>30.00000</td>\n    </tr>\n    <tr>\n      <th>75%</th>\n      <td>15.25000</td>\n      <td>45.00000</td>\n    </tr>\n    <tr>\n      <th>max</th>\n      <td>20.00000</td>\n      <td>60.00000</td>\n    </tr>\n  </tbody>\n</table>\n</div>"
          },
          "metadata": {}
        }
      ],
      "execution_count": 68
    },
    {
      "cell_type": "code",
      "source": "mean = float(df[\"time_spent_minutes\"].mean())",
      "metadata": {
        "trusted": true
      },
      "outputs": [],
      "execution_count": 81
    },
    {
      "cell_type": "code",
      "source": "mean = round(mean, 2)\nmean",
      "metadata": {
        "trusted": true
      },
      "outputs": [
        {
          "execution_count": 87,
          "output_type": "execute_result",
          "data": {
            "text/plain": "34.06"
          },
          "metadata": {}
        }
      ],
      "execution_count": 87
    },
    {
      "cell_type": "code",
      "source": "df[\"time_spent_minutes\"].fillna(34.06, inplace = True)",
      "metadata": {
        "trusted": true
      },
      "outputs": [],
      "execution_count": 90
    },
    {
      "cell_type": "code",
      "source": "df",
      "metadata": {
        "trusted": true
      },
      "outputs": [
        {
          "execution_count": 91,
          "output_type": "execute_result",
          "data": {
            "text/plain": "    customer_id date_of_interaction     issue_category  time_spent_minutes  \\\n0             1          2024-01-15            Payment             30.0000   \n1             2          2024-02-20            Account             45.0000   \n2             3          2024-03-05           Delivery             34.0625   \n3             4                 NaN  Technical Support             60.0000   \n4             5          2024-04-10            Payment             20.0000   \n5             6          2024-05-15      Not specified             30.0000   \n6             7          2024-06-01            Account             50.0000   \n7             8          2024-07-22           Delivery             15.0000   \n8             9          2024-08-13  Technical Support             34.0625   \n9            10          2024-09-30            Payment             25.0000   \n10           11          2024-01-01            Account             35.0000   \n11           12          2024-02-29           Delivery             55.0000   \n12           13          2024-03-15  Technical Support             34.0625   \n13           14          2024-04-20            Payment             40.0000   \n14           15          2024-05-10            Account             34.0625   \n15           16          2024-06-30           Delivery             25.0000   \n16           17          2024-07-15  Technical Support             20.0000   \n17           18          2024-08-25      Not specified             30.0000   \n18           19                 NaN            Payment             45.0000   \n19           20          2024-09-05            Account             20.0000   \n\n   resolution_status  \n0           Resolved  \n1         Unresolved  \n2           Resolved  \n3         Unresolved  \n4           Resolved  \n5         Unresolved  \n6           Resolved  \n7         Unresolved  \n8           Resolved  \n9         Unresolved  \n10          Resolved  \n11        Unresolved  \n12          Resolved  \n13        Unresolved  \n14          Resolved  \n15        Unresolved  \n16          Resolved  \n17        Unresolved  \n18          Resolved  \n19        Unresolved  ",
            "text/html": "<div>\n<style scoped>\n    .dataframe tbody tr th:only-of-type {\n        vertical-align: middle;\n    }\n\n    .dataframe tbody tr th {\n        vertical-align: top;\n    }\n\n    .dataframe thead th {\n        text-align: right;\n    }\n</style>\n<table border=\"1\" class=\"dataframe\">\n  <thead>\n    <tr style=\"text-align: right;\">\n      <th></th>\n      <th>customer_id</th>\n      <th>date_of_interaction</th>\n      <th>issue_category</th>\n      <th>time_spent_minutes</th>\n      <th>resolution_status</th>\n    </tr>\n  </thead>\n  <tbody>\n    <tr>\n      <th>0</th>\n      <td>1</td>\n      <td>2024-01-15</td>\n      <td>Payment</td>\n      <td>30.0000</td>\n      <td>Resolved</td>\n    </tr>\n    <tr>\n      <th>1</th>\n      <td>2</td>\n      <td>2024-02-20</td>\n      <td>Account</td>\n      <td>45.0000</td>\n      <td>Unresolved</td>\n    </tr>\n    <tr>\n      <th>2</th>\n      <td>3</td>\n      <td>2024-03-05</td>\n      <td>Delivery</td>\n      <td>34.0625</td>\n      <td>Resolved</td>\n    </tr>\n    <tr>\n      <th>3</th>\n      <td>4</td>\n      <td>NaN</td>\n      <td>Technical Support</td>\n      <td>60.0000</td>\n      <td>Unresolved</td>\n    </tr>\n    <tr>\n      <th>4</th>\n      <td>5</td>\n      <td>2024-04-10</td>\n      <td>Payment</td>\n      <td>20.0000</td>\n      <td>Resolved</td>\n    </tr>\n    <tr>\n      <th>5</th>\n      <td>6</td>\n      <td>2024-05-15</td>\n      <td>Not specified</td>\n      <td>30.0000</td>\n      <td>Unresolved</td>\n    </tr>\n    <tr>\n      <th>6</th>\n      <td>7</td>\n      <td>2024-06-01</td>\n      <td>Account</td>\n      <td>50.0000</td>\n      <td>Resolved</td>\n    </tr>\n    <tr>\n      <th>7</th>\n      <td>8</td>\n      <td>2024-07-22</td>\n      <td>Delivery</td>\n      <td>15.0000</td>\n      <td>Unresolved</td>\n    </tr>\n    <tr>\n      <th>8</th>\n      <td>9</td>\n      <td>2024-08-13</td>\n      <td>Technical Support</td>\n      <td>34.0625</td>\n      <td>Resolved</td>\n    </tr>\n    <tr>\n      <th>9</th>\n      <td>10</td>\n      <td>2024-09-30</td>\n      <td>Payment</td>\n      <td>25.0000</td>\n      <td>Unresolved</td>\n    </tr>\n    <tr>\n      <th>10</th>\n      <td>11</td>\n      <td>2024-01-01</td>\n      <td>Account</td>\n      <td>35.0000</td>\n      <td>Resolved</td>\n    </tr>\n    <tr>\n      <th>11</th>\n      <td>12</td>\n      <td>2024-02-29</td>\n      <td>Delivery</td>\n      <td>55.0000</td>\n      <td>Unresolved</td>\n    </tr>\n    <tr>\n      <th>12</th>\n      <td>13</td>\n      <td>2024-03-15</td>\n      <td>Technical Support</td>\n      <td>34.0625</td>\n      <td>Resolved</td>\n    </tr>\n    <tr>\n      <th>13</th>\n      <td>14</td>\n      <td>2024-04-20</td>\n      <td>Payment</td>\n      <td>40.0000</td>\n      <td>Unresolved</td>\n    </tr>\n    <tr>\n      <th>14</th>\n      <td>15</td>\n      <td>2024-05-10</td>\n      <td>Account</td>\n      <td>34.0625</td>\n      <td>Resolved</td>\n    </tr>\n    <tr>\n      <th>15</th>\n      <td>16</td>\n      <td>2024-06-30</td>\n      <td>Delivery</td>\n      <td>25.0000</td>\n      <td>Unresolved</td>\n    </tr>\n    <tr>\n      <th>16</th>\n      <td>17</td>\n      <td>2024-07-15</td>\n      <td>Technical Support</td>\n      <td>20.0000</td>\n      <td>Resolved</td>\n    </tr>\n    <tr>\n      <th>17</th>\n      <td>18</td>\n      <td>2024-08-25</td>\n      <td>Not specified</td>\n      <td>30.0000</td>\n      <td>Unresolved</td>\n    </tr>\n    <tr>\n      <th>18</th>\n      <td>19</td>\n      <td>NaN</td>\n      <td>Payment</td>\n      <td>45.0000</td>\n      <td>Resolved</td>\n    </tr>\n    <tr>\n      <th>19</th>\n      <td>20</td>\n      <td>2024-09-05</td>\n      <td>Account</td>\n      <td>20.0000</td>\n      <td>Unresolved</td>\n    </tr>\n  </tbody>\n</table>\n</div>"
          },
          "metadata": {}
        }
      ],
      "execution_count": 91
    },
    {
      "cell_type": "code",
      "source": "df.info()",
      "metadata": {
        "trusted": true
      },
      "outputs": [
        {
          "name": "stdout",
          "text": "<class 'pandas.core.frame.DataFrame'>\nRangeIndex: 20 entries, 0 to 19\nData columns (total 5 columns):\n #   Column               Non-Null Count  Dtype  \n---  ------               --------------  -----  \n 0   customer_id          20 non-null     int64  \n 1   date_of_interaction  18 non-null     object \n 2   issue_category       20 non-null     object \n 3   time_spent_minutes   20 non-null     float64\n 4   resolution_status    20 non-null     object \ndtypes: float64(1), int64(1), object(3)\nmemory usage: 632.0+ bytes\n",
          "output_type": "stream"
        }
      ],
      "execution_count": 93
    },
    {
      "cell_type": "code",
      "source": "dates = df[\"date_of_interaction\"].dropna()\ndates",
      "metadata": {
        "trusted": true
      },
      "outputs": [
        {
          "execution_count": 103,
          "output_type": "execute_result",
          "data": {
            "text/plain": "0     2024-01-15\n1     2024-02-20\n2     2024-03-05\n4     2024-04-10\n5     2024-05-15\n6     2024-06-01\n7     2024-07-22\n8     2024-08-13\n9     2024-09-30\n10    2024-01-01\n11    2024-02-29\n12    2024-03-15\n13    2024-04-20\n14    2024-05-10\n15    2024-06-30\n16    2024-07-15\n17    2024-08-25\n19    2024-09-05\nName: date_of_interaction, dtype: object"
          },
          "metadata": {}
        }
      ],
      "execution_count": 103
    },
    {
      "cell_type": "code",
      "source": "dates = pd.to_datetime(df[\"date_of_interaction\"], format=\"%Y-%m-%d\")",
      "metadata": {
        "trusted": true
      },
      "outputs": [],
      "execution_count": 106
    },
    {
      "cell_type": "code",
      "source": "dates",
      "metadata": {
        "trusted": true
      },
      "outputs": [
        {
          "execution_count": 107,
          "output_type": "execute_result",
          "data": {
            "text/plain": "0    2024-01-15\n1    2024-02-20\n2    2024-03-05\n3           NaT\n4    2024-04-10\n5    2024-05-15\n6    2024-06-01\n7    2024-07-22\n8    2024-08-13\n9    2024-09-30\n10   2024-01-01\n11   2024-02-29\n12   2024-03-15\n13   2024-04-20\n14   2024-05-10\n15   2024-06-30\n16   2024-07-15\n17   2024-08-25\n18          NaT\n19   2024-09-05\nName: date_of_interaction, dtype: datetime64[ns]"
          },
          "metadata": {}
        }
      ],
      "execution_count": 107
    },
    {
      "cell_type": "code",
      "source": "min_date = dates.min().date()\nmin_date",
      "metadata": {
        "trusted": true
      },
      "outputs": [
        {
          "execution_count": 117,
          "output_type": "execute_result",
          "data": {
            "text/plain": "datetime.date(2024, 1, 1)"
          },
          "metadata": {}
        }
      ],
      "execution_count": 117
    },
    {
      "cell_type": "code",
      "source": "max_date = dates.max().date()\nmax_date",
      "metadata": {
        "trusted": true
      },
      "outputs": [
        {
          "execution_count": 119,
          "output_type": "execute_result",
          "data": {
            "text/plain": "datetime.date(2024, 9, 30)"
          },
          "metadata": {}
        }
      ],
      "execution_count": 119
    },
    {
      "cell_type": "code",
      "source": "date_range = pd.date_range(start=min_date, end = max_date)",
      "metadata": {
        "trusted": true
      },
      "outputs": [],
      "execution_count": 120
    },
    {
      "cell_type": "code",
      "source": "df.isnull().sum()",
      "metadata": {
        "trusted": true
      },
      "outputs": [
        {
          "execution_count": 123,
          "output_type": "execute_result",
          "data": {
            "text/plain": "customer_id            0\ndate_of_interaction    2\nissue_category         0\ntime_spent_minutes     0\nresolution_status      0\ndtype: int64"
          },
          "metadata": {}
        }
      ],
      "execution_count": 123
    },
    {
      "cell_type": "code",
      "source": "import random\n\ndef generate_random_date(start, end):\n    delta_days = (end - start).days\n    # Generate a random number of days to add to the start date\n    random_days = random.randint(0, delta_days)\n    # Generate the random date\n    random_date = start + pd.Timedelta(days=random_days)\n    return random_date.strftime('%Y-%d-%m')\n\n# Generate a random date\nrandom_date1 = generate_random_date(min_date, max_date)\nrandom_date2 = generate_random_date(min_date, max_date)\n",
      "metadata": {
        "trusted": true
      },
      "outputs": [],
      "execution_count": 139
    },
    {
      "cell_type": "code",
      "source": "print(random_date1)\nprint(random_date2)\n",
      "metadata": {
        "trusted": true
      },
      "outputs": [
        {
          "name": "stdout",
          "text": "2024-24-03\n2024-31-08\n",
          "output_type": "stream"
        }
      ],
      "execution_count": 140
    },
    {
      "cell_type": "code",
      "source": "dates",
      "metadata": {
        "trusted": true
      },
      "outputs": [
        {
          "execution_count": 141,
          "output_type": "execute_result",
          "data": {
            "text/plain": "0    2024-01-15\n1    2024-02-20\n2    2024-03-05\n3           NaT\n4    2024-04-10\n5    2024-05-15\n6    2024-06-01\n7    2024-07-22\n8    2024-08-13\n9    2024-09-30\n10   2024-01-01\n11   2024-02-29\n12   2024-03-15\n13   2024-04-20\n14   2024-05-10\n15   2024-06-30\n16   2024-07-15\n17   2024-08-25\n18          NaT\n19   2024-09-05\nName: date_of_interaction, dtype: datetime64[ns]"
          },
          "metadata": {}
        }
      ],
      "execution_count": 141
    },
    {
      "cell_type": "code",
      "source": "dates.isnull().sum()",
      "metadata": {
        "trusted": true
      },
      "outputs": [
        {
          "execution_count": 142,
          "output_type": "execute_result",
          "data": {
            "text/plain": "2"
          },
          "metadata": {}
        }
      ],
      "execution_count": 142
    },
    {
      "cell_type": "code",
      "source": "random_dates = []\nfor i in range(df[\"date_of_interaction\"].isnull().sum()):\n    random_dates.append(generate_random_date(min_date, max_date))",
      "metadata": {
        "trusted": true
      },
      "outputs": [],
      "execution_count": 153
    },
    {
      "cell_type": "code",
      "source": "random_dates",
      "metadata": {
        "trusted": true
      },
      "outputs": [
        {
          "execution_count": 163,
          "output_type": "execute_result",
          "data": {
            "text/plain": "['2024-21-08', '2024-25-05']"
          },
          "metadata": {}
        }
      ],
      "execution_count": 163
    },
    {
      "cell_type": "code",
      "source": "pd.Series(random_dates)",
      "metadata": {
        "trusted": true
      },
      "outputs": [
        {
          "execution_count": 166,
          "output_type": "execute_result",
          "data": {
            "text/plain": "0    2024-21-08\n1    2024-25-05\ndtype: object"
          },
          "metadata": {}
        }
      ],
      "execution_count": 166
    },
    {
      "cell_type": "code",
      "source": "df[\"date_of_interaction\"] = df[\"date_of_interaction\"].fillna(pd.Series(random_dates), inplace = True)",
      "metadata": {
        "trusted": true
      },
      "outputs": [
        {
          "name": "stderr",
          "text": "<ipython-input-170-33d9a8bd2b10>:1: FutureWarning: A value is trying to be set on a copy of a DataFrame or Series through chained assignment using an inplace method.\nThe behavior will change in pandas 3.0. This inplace method will never work because the intermediate object on which we are setting values always behaves as a copy.\n\nFor example, when doing 'df[col].method(value, inplace=True)', try using 'df.method({col: value}, inplace=True)' or df[col] = df[col].method(value) instead, to perform the operation inplace on the original object.\n\n\n  df[\"date_of_interaction\"] = df[\"date_of_interaction\"].fillna(pd.Series(random_dates), inplace = True)\n",
          "output_type": "stream"
        }
      ],
      "execution_count": 170
    },
    {
      "cell_type": "code",
      "source": "df",
      "metadata": {
        "trusted": true
      },
      "outputs": [],
      "execution_count": null
    },
    {
      "cell_type": "code",
      "source": "",
      "metadata": {
        "trusted": true
      },
      "outputs": [],
      "execution_count": null
    }
  ]
}
